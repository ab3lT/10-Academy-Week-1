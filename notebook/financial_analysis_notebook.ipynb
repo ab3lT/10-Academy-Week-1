{
 "cells": [
  {
   "cell_type": "markdown",
   "metadata": {},
   "source": [
    "\n",
    "Quantitative analysis using pynance and TaLib\n",
    "Load yfinance dataset\n",
    "Fetch Financial Data\n",
    "\n",
    "We can use PyNance to fetch historical stock data."
   ]
  },
  {
   "cell_type": "code",
   "execution_count": 6,
   "metadata": {},
   "outputs": [
    {
     "data": {
      "text/html": [
       "<div>\n",
       "<style scoped>\n",
       "    .dataframe tbody tr th:only-of-type {\n",
       "        vertical-align: middle;\n",
       "    }\n",
       "\n",
       "    .dataframe tbody tr th {\n",
       "        vertical-align: top;\n",
       "    }\n",
       "\n",
       "    .dataframe thead th {\n",
       "        text-align: right;\n",
       "    }\n",
       "</style>\n",
       "<table border=\"1\" class=\"dataframe\">\n",
       "  <thead>\n",
       "    <tr style=\"text-align: right;\">\n",
       "      <th></th>\n",
       "      <th>Open</th>\n",
       "      <th>High</th>\n",
       "      <th>Low</th>\n",
       "      <th>Close</th>\n",
       "      <th>Volume</th>\n",
       "      <th>stock</th>\n",
       "    </tr>\n",
       "    <tr>\n",
       "      <th>Date</th>\n",
       "      <th></th>\n",
       "      <th></th>\n",
       "      <th></th>\n",
       "      <th></th>\n",
       "      <th></th>\n",
       "      <th></th>\n",
       "    </tr>\n",
       "  </thead>\n",
       "  <tbody>\n",
       "    <tr>\n",
       "      <th>2022-12-30</th>\n",
       "      <td>127.213</td>\n",
       "      <td>128.739</td>\n",
       "      <td>126.244</td>\n",
       "      <td>128.719</td>\n",
       "      <td>7.775874e+07</td>\n",
       "      <td>AAPL</td>\n",
       "    </tr>\n",
       "    <tr>\n",
       "      <th>2022-12-29</th>\n",
       "      <td>126.797</td>\n",
       "      <td>129.265</td>\n",
       "      <td>126.540</td>\n",
       "      <td>128.402</td>\n",
       "      <td>7.641573e+07</td>\n",
       "      <td>AAPL</td>\n",
       "    </tr>\n",
       "    <tr>\n",
       "      <th>2022-12-28</th>\n",
       "      <td>128.462</td>\n",
       "      <td>129.807</td>\n",
       "      <td>124.697</td>\n",
       "      <td>124.865</td>\n",
       "      <td>8.624197e+07</td>\n",
       "      <td>AAPL</td>\n",
       "    </tr>\n",
       "    <tr>\n",
       "      <th>2022-12-27</th>\n",
       "      <td>130.155</td>\n",
       "      <td>130.185</td>\n",
       "      <td>127.520</td>\n",
       "      <td>128.819</td>\n",
       "      <td>6.965687e+07</td>\n",
       "      <td>AAPL</td>\n",
       "    </tr>\n",
       "    <tr>\n",
       "      <th>2022-12-23</th>\n",
       "      <td>129.699</td>\n",
       "      <td>131.181</td>\n",
       "      <td>128.432</td>\n",
       "      <td>130.632</td>\n",
       "      <td>6.441509e+07</td>\n",
       "      <td>AAPL</td>\n",
       "    </tr>\n",
       "  </tbody>\n",
       "</table>\n",
       "</div>"
      ],
      "text/plain": [
       "               Open     High      Low    Close        Volume stock\n",
       "Date                                                              \n",
       "2022-12-30  127.213  128.739  126.244  128.719  7.775874e+07  AAPL\n",
       "2022-12-29  126.797  129.265  126.540  128.402  7.641573e+07  AAPL\n",
       "2022-12-28  128.462  129.807  124.697  124.865  8.624197e+07  AAPL\n",
       "2022-12-27  130.155  130.185  127.520  128.819  6.965687e+07  AAPL\n",
       "2022-12-23  129.699  131.181  128.432  130.632  6.441509e+07  AAPL"
      ]
     },
     "execution_count": 6,
     "metadata": {},
     "output_type": "execute_result"
    }
   ],
   "source": [
    "import sys, os\n",
    "import pandas as pd\n",
    "# Add the 'scripts' directory to the Python path\n",
    "sys.path.append(os.path.abspath(os.path.join('..', 'scripts')))\n",
    "\n",
    "from fetch_stock_data import fetch_historical_data\n",
    "\n",
    "# extract multiple datasets  and concatenate in one dataset for analysis\n",
    "# List of stocks\n",
    "stocks = ['AAPL','AMZN','GOOG','META', 'MSFT', 'NVDA','TSLA']\n",
    "# Fetch historical data for list of stocks\n",
    "\n",
    " # Fetch data for AAPL, GOOGL, and MSFT, etc\n",
    "df = fetch_historical_data(stocks, start_date='2010-01-01', end_date='2023-01-01')\n",
    "    \n",
    "# Explore the results\n",
    "df.head()"
   ]
  },
  {
   "cell_type": "code",
   "execution_count": 7,
   "metadata": {},
   "outputs": [
    {
     "data": {
      "text/plain": [
       "(21119, 6)"
      ]
     },
     "execution_count": 7,
     "metadata": {},
     "output_type": "execute_result"
    }
   ],
   "source": [
    "\n",
    "# check the size of the dataset\n",
    "df.shape"
   ]
  },
  {
   "cell_type": "code",
   "execution_count": 8,
   "metadata": {},
   "outputs": [
    {
     "data": {
      "text/plain": [
       "Open      float64\n",
       "High      float64\n",
       "Low       float64\n",
       "Close     float64\n",
       "Volume    float64\n",
       "stock      object\n",
       "dtype: object"
      ]
     },
     "execution_count": 8,
     "metadata": {},
     "output_type": "execute_result"
    }
   ],
   "source": [
    "\n",
    "# check the data types\n",
    "df.dtypes"
   ]
  },
  {
   "cell_type": "code",
   "execution_count": 9,
   "metadata": {},
   "outputs": [
    {
     "data": {
      "text/plain": [
       "np.int64(0)"
      ]
     },
     "execution_count": 9,
     "metadata": {},
     "output_type": "execute_result"
    }
   ],
   "source": [
    "# check duplicates\n",
    "\n",
    "df.duplicated().sum()"
   ]
  },
  {
   "cell_type": "markdown",
   "metadata": {},
   "source": [
    "Apply Analysis Indicators with TA-Lib\n",
    "Here we can use TA-Lib to calculate various technical indicators such as moving averages, RSI (Relative Strength Index), and MACD (Moving Average Convergence Divergence)"
   ]
  },
  {
   "cell_type": "code",
   "execution_count": 10,
   "metadata": {},
   "outputs": [],
   "source": [
    "\n",
    "# Import ta-lib library\n",
    "import talib"
   ]
  },
  {
   "cell_type": "code",
   "execution_count": 11,
   "metadata": {},
   "outputs": [],
   "source": [
    "# Moving Averages\n",
    "df['SMA_20'] = talib.SMA(df['Close'], timeperiod=20)\n",
    "df['EMA_20'] = talib.EMA(df['Close'], timeperiod=20)"
   ]
  },
  {
   "cell_type": "code",
   "execution_count": 13,
   "metadata": {},
   "outputs": [],
   "source": [
    "\n",
    "# Relative Strength Index (RSI)\n",
    "df['RSI_14'] = talib.RSI(df['Close'], timeperiod=14)"
   ]
  },
  {
   "cell_type": "code",
   "execution_count": 14,
   "metadata": {},
   "outputs": [],
   "source": [
    "\n",
    "# Moving Average Convergence Divergence (MACD)\n",
    "df['MACD'], df['MACD_Signal'], df['MACD_Hist'] = talib.MACD(df['Close'], \n",
    "                                                            fastperiod=12, \n",
    "                                                            slowperiod=26, \n",
    "                                                            signalperiod=9)"
   ]
  },
  {
   "cell_type": "code",
   "execution_count": 16,
   "metadata": {},
   "outputs": [
    {
     "data": {
      "text/plain": [
       "Open            0\n",
       "High            0\n",
       "Low             0\n",
       "Close           0\n",
       "Volume          0\n",
       "stock           0\n",
       "SMA_20         19\n",
       "EMA_20         19\n",
       "RSI_14         14\n",
       "MACD           33\n",
       "MACD_Signal    33\n",
       "MACD_Hist      33\n",
       "dtype: int64"
      ]
     },
     "execution_count": 16,
     "metadata": {},
     "output_type": "execute_result"
    }
   ],
   "source": [
    "\n",
    "df.isnull().sum()\n"
   ]
  },
  {
   "cell_type": "markdown",
   "metadata": {},
   "source": [
    "\n",
    "Seeing NaN values in the first few rows of the indicators is expected due to the look-back period required for calculation. We can choose to drop those rows, fill them, or handle them according to our analysis needs."
   ]
  },
  {
   "cell_type": "code",
   "execution_count": 17,
   "metadata": {},
   "outputs": [
    {
     "name": "stdout",
     "output_type": "stream",
     "text": [
      "              Close  Daily_Return\n",
      "Date                             \n",
      "2022-12-30  128.719           NaN\n",
      "2022-12-29  128.402     -0.002463\n",
      "2022-12-28  124.865     -0.027546\n",
      "2022-12-27  128.819      0.031666\n",
      "2022-12-23  130.632      0.014074\n",
      "2022-12-22  130.997      0.002794\n",
      "2022-12-21  134.189      0.024367\n",
      "2022-12-20  131.067     -0.023266\n",
      "2022-12-19  131.136      0.000526\n",
      "2022-12-16  133.257      0.016174\n",
      "2022-12-15  135.227      0.014783\n",
      "2022-12-14  141.875      0.049162\n",
      "2022-12-13  144.113      0.015774\n",
      "2022-12-12  143.145     -0.006717\n",
      "2022-12-09  140.836     -0.016130\n",
      "2022-12-08  141.320      0.003437\n",
      "2022-12-07  139.625     -0.011994\n",
      "2022-12-06  141.579      0.013995\n",
      "2022-12-05  145.264      0.026028\n",
      "2022-12-02  146.433      0.008047\n",
      "2022-12-01  146.928      0.003380\n",
      "2022-11-30  146.650     -0.001892\n",
      "2022-11-29  139.854     -0.046342\n",
      "2022-11-28  142.876      0.021608\n",
      "2022-11-25  146.730      0.026974\n",
      "2022-11-23  149.664      0.019996\n",
      "2022-11-22  148.781     -0.005900\n",
      "2022-11-21  146.630     -0.014457\n",
      "2022-11-18  149.880      0.022165\n",
      "2022-11-17  149.315     -0.003770\n"
     ]
    }
   ],
   "source": [
    "\n",
    "# Calculate daily returns\n",
    "df['Daily_Return'] = df['Close'].pct_change()\n",
    "\n",
    "print(df[['Close', 'Daily_Return']].head(30))"
   ]
  },
  {
   "cell_type": "code",
   "execution_count": 18,
   "metadata": {},
   "outputs": [
    {
     "name": "stdout",
     "output_type": "stream",
     "text": [
      "              Close  Cumulative_Return\n",
      "Date                                  \n",
      "2022-12-30  128.719                NaN\n",
      "2022-12-29  128.402           0.997537\n",
      "2022-12-28  124.865           0.970059\n",
      "2022-12-27  128.819           1.000777\n",
      "2022-12-23  130.632           1.014862\n",
      "2022-12-22  130.997           1.017697\n",
      "2022-12-21  134.189           1.042496\n",
      "2022-12-20  131.067           1.018241\n",
      "2022-12-19  131.136           1.018777\n",
      "2022-12-16  133.257           1.035255\n",
      "2022-12-15  135.227           1.050560\n",
      "2022-12-14  141.875           1.102207\n",
      "2022-12-13  144.113           1.119594\n",
      "2022-12-12  143.145           1.112074\n",
      "2022-12-09  140.836           1.094135\n",
      "2022-12-08  141.320           1.097895\n",
      "2022-12-07  139.625           1.084727\n",
      "2022-12-06  141.579           1.099908\n",
      "2022-12-05  145.264           1.128536\n",
      "2022-12-02  146.433           1.137618\n",
      "2022-12-01  146.928           1.141463\n",
      "2022-11-30  146.650           1.139303\n",
      "2022-11-29  139.854           1.086506\n",
      "2022-11-28  142.876           1.109984\n",
      "2022-11-25  146.730           1.139925\n",
      "2022-11-23  149.664           1.162719\n",
      "2022-11-22  148.781           1.155859\n",
      "2022-11-21  146.630           1.139148\n",
      "2022-11-18  149.880           1.164397\n",
      "2022-11-17  149.315           1.160007\n"
     ]
    }
   ],
   "source": [
    "\n",
    "# Calculate cumulative returns\n",
    "df['Cumulative_Return'] = (1 + df['Daily_Return']).cumprod()\n",
    "\n",
    "print(df[['Close', 'Cumulative_Return']].head(30))"
   ]
  },
  {
   "cell_type": "code",
   "execution_count": null,
   "metadata": {},
   "outputs": [],
   "source": []
  }
 ],
 "metadata": {
  "kernelspec": {
   "display_name": "week-1",
   "language": "python",
   "name": "python3"
  },
  "language_info": {
   "codemirror_mode": {
    "name": "ipython",
    "version": 3
   },
   "file_extension": ".py",
   "mimetype": "text/x-python",
   "name": "python",
   "nbconvert_exporter": "python",
   "pygments_lexer": "ipython3",
   "version": "3.11.11"
  }
 },
 "nbformat": 4,
 "nbformat_minor": 2
}

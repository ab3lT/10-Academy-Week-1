{
 "cells": [
  {
   "cell_type": "code",
   "execution_count": null,
   "metadata": {},
   "outputs": [],
   "source": [
    "import sys, os\n",
    "import pandas as pd\n",
    "# Add the 'scripts' directory to the Python path\n",
    "sys.path.append(os.path.abspath(os.path.join('..', 'scripts')))\n",
    "\n",
    "from data_processing import load_data\n",
    "# Step 1: Unzip the file\n",
    "zip_file_path = '../Data'  # Replace with your .zip file path\n",
    "extracted_folder_path = zip_file_path+'/yfinance_data'  # Replace with your desired extract path\n",
    "\n",
    "# extract multiple datasets  and concatenate in one dataset for analysis\n",
    "filenames = ['AAPL_historical_data.csv',\n",
    "             'AMZN_historical_data.csv',\n",
    "             'GOOG_historical_data.csv',\n",
    "             'META_historical_data.csv',\n",
    "             'MSFT_historical_data.csv',\n",
    "             'NVDA_historical_data.csv',\n",
    "             'TSLA_historical_data.csv']\n",
    "# Initialize an empty list to hold individual DataFrames\n",
    "dataframes = []\n",
    "# Loop through the filenames, load and process each, then append to the list\n",
    "for filename in filenames:\n",
    "    # Load the CSV file\n",
    "    data = load_data(zip_file_path+'/yfinance_data.zip', \n",
    "                     'yfinance_data/'+filename)\n",
    "    \n",
    "    dataframes.append(data)  # Append the processed DataFrame to the list\n",
    "\n",
    "                 \n",
    "# Merge all DataFrames into one\n",
    "merged_data = pd.concat(dataframes)\n",
    "\n",
    "# Display the merged data\n",
    "merged_data.head()"
   ]
  }
 ],
 "metadata": {
  "kernelspec": {
   "display_name": "Python 3",
   "language": "python",
   "name": "python3"
  },
  "language_info": {
   "name": "python",
   "version": "3.11.11"
  }
 },
 "nbformat": 4,
 "nbformat_minor": 2
}
